{
  "nbformat": 4,
  "nbformat_minor": 0,
  "metadata": {
    "colab": {
      "provenance": [],
      "authorship_tag": "ABX9TyOS2lqGFaTlssuhQqV1nrsw",
      "include_colab_link": true
    },
    "kernelspec": {
      "name": "python3",
      "display_name": "Python 3"
    },
    "language_info": {
      "name": "python"
    }
  },
  "cells": [
    {
      "cell_type": "markdown",
      "metadata": {
        "id": "view-in-github",
        "colab_type": "text"
      },
      "source": [
        "<a href=\"https://colab.research.google.com/github/BanTi-Lodh/CraftedByteVault/blob/D2C_Prediction/sample.ipynb\" target=\"_parent\"><img src=\"https://colab.research.google.com/assets/colab-badge.svg\" alt=\"Open In Colab\"/></a>"
      ]
    },
    {
      "cell_type": "code",
      "execution_count": 1,
      "metadata": {
        "id": "qRJpb93bEOg8"
      },
      "outputs": [],
      "source": [
        "# prompt: create a function to give last name of every person\n",
        "\n",
        "def get_last_names(people):\n",
        "  \"\"\"\n",
        "  Returns a list of last names of every person in the list.\n",
        "\n",
        "  Args:\n",
        "    people: A list of dictionaries, where each dictionary represents a person.\n",
        "      Each dictionary must have a key named \"name\" whose value is a string\n",
        "      containing the person's full name.\n",
        "\n",
        "  Returns:\n",
        "    A list of strings containing the last names of every person in the list.\n",
        "  \"\"\"\n",
        "\n",
        "  last_names = []\n",
        "  for person in people:\n",
        "    full_name = person[\"name\"]\n",
        "    last_name = full_name.split()[-1]\n",
        "    last_names.append(last_name)\n",
        "\n",
        "  return last_names\n"
      ]
    }
  ]
}